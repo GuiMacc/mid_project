{
 "cells": [
  {
   "cell_type": "markdown",
   "id": "2bd8d707",
   "metadata": {},
   "source": [
    "Let's start by loading the necessary libraries and our data."
   ]
  },
  {
   "cell_type": "code",
   "execution_count": 1,
   "id": "69ed3879",
   "metadata": {},
   "outputs": [],
   "source": [
    "import numpy as np\n",
    "import pandas as pd"
   ]
  },
  {
   "cell_type": "code",
   "execution_count": 2,
   "id": "f947df7d",
   "metadata": {},
   "outputs": [],
   "source": [
    "game_data = pd.read_csv('../Data/games-data.csv')"
   ]
  },
  {
   "cell_type": "markdown",
   "id": "08a8d453",
   "metadata": {},
   "source": [
    "Up next is a function that changes the column names:\n",
    ">game -> name of the game  \n",
    ">console -> name of the console in which the game was released  \n",
    ">release_date -> date in which the game got released to the public  \n",
    ">critic_score -> average score given by professional critics  \n",
    ">user_score -> average score given by the users of the metacritic website  \n",
    ">dev -> name of the developer studio that worked on the game  \n",
    ">player_support -> amount of players that the game supports in a single session  \n",
    ">num_critics -> number of critics that left a review on the game  \n",
    ">num_users -> number of users that left a review on the game  \n",
    ">genre -> list of genres that best represent the game (unchanged with the function)"
   ]
  },
  {
   "cell_type": "code",
   "execution_count": 3,
   "id": "eabbadad",
   "metadata": {},
   "outputs": [],
   "source": [
    "def clean_col_names(df):\n",
    "    \"\"\"\n",
    "        Takes our dataframe and changes the column names into ones that better represent the contents of that column\n",
    "        Input -> df Dataframe needing column name cleaning\n",
    "        Output -> df1 Dataframe with columns renamed\n",
    "    \"\"\"\n",
    "    \n",
    "    df1 = df.copy()\n",
    "    df1.rename(columns = {'name' : 'game', 'platform' : 'console', 'r-date' : 'release_date',\n",
    "                         'score' : 'critic_score', 'user score' : 'user_score',\n",
    "                         'developer' : 'dev', 'players' : 'player_support',\n",
    "                         'critics' : 'num_critics', 'users' : 'num_users'}, inplace = True )\n",
    "    return df1"
   ]
  },
  {
   "cell_type": "markdown",
   "id": "1f02af84",
   "metadata": {},
   "source": [
    "Next is a function to get rid of rows where the values of the numeric columns doesn't make too much sense."
   ]
  },
  {
   "cell_type": "code",
   "execution_count": 4,
   "id": "c1462bf5",
   "metadata": {},
   "outputs": [],
   "source": [
    "def weird_rows(df):\n",
    "    \"\"\"\n",
    "        Takes our dataframe and eliminates rows with values in the numerical columns that are simply no good\n",
    "        Input -> df Dataframe needing row cleaning\n",
    "        Output -> df1 Dataframe with no strange rows\n",
    "    \"\"\"\n",
    "    \n",
    "    df1 = df.copy()\n",
    "    return df1[ (df['user_score'] != 'tbd') & (df['num_users'] != 0) & (df['num_critics'] != 0) ]"
   ]
  },
  {
   "cell_type": "markdown",
   "id": "6b2cfb34",
   "metadata": {},
   "source": [
    "Afterwards there is the need to fill some null values present in the \"player_support\" column, so here is funcion that does that."
   ]
  },
  {
   "cell_type": "code",
   "execution_count": 5,
   "id": "ba088d17",
   "metadata": {},
   "outputs": [],
   "source": [
    "def support_fill(df):\n",
    "    \"\"\"\n",
    "        Takes our dataframe and fills the values in the \"player_support\" column with reasonable ones\n",
    "        Input -> df Dataframe with a few null values in the \"player_support\" column\n",
    "        Output -> df1 Dataframe cleaned of null values\n",
    "    \"\"\"\n",
    "    \n",
    "    df1=df.copy()\n",
    "    return df1['player_support'].fillna('No info', inplace=True)"
   ]
  },
  {
   "cell_type": "markdown",
   "id": "79bf78f9",
   "metadata": {},
   "source": [
    "The values on columns \"critic_score\" and \"user_score\" are on a different scale (0-100 and 0-10 respectively), so there's the need to tranform one so it's on the same scale as the other. Since \"user_score\" also happens to be as object type will be simultaniously changing that to integer."
   ]
  },
  {
   "cell_type": "code",
   "execution_count": 6,
   "id": "4234c429",
   "metadata": {},
   "outputs": [],
   "source": [
    "def fix_user_score(x):\n",
    "    \"\"\"\n",
    "        Simply multiplies a number by 10 an returns the result as an integer\n",
    "        Input -> any numeric value x, even if it's not cast as a numerical type\n",
    "        Output -> produc y cast as an integer\n",
    "    \"\"\"\n",
    "    \n",
    "    y = float(x) * 10\n",
    "    return int(y)"
   ]
  },
  {
   "cell_type": "markdown",
   "id": "7f836847",
   "metadata": {},
   "source": [
    "To get some extra details out of the data, there is going to be a function which creates a new column named \"score_diff\".  \n",
    "This new column is the result of the difference between user_score and critic_score, which due to input means that:\n",
    ">a positive value means the user score is bigger than the critic score  \n",
    ">a negative value means the critic score is bigger than the user score"
   ]
  },
  {
   "cell_type": "code",
   "execution_count": 8,
   "id": "d5774f13",
   "metadata": {},
   "outputs": [],
   "source": [
    "def score_diff_col(df):\n",
    "    \"\"\"\n",
    "        Takes our dataframe and adds a new column with the difference between the two score columns\n",
    "        Input -> df Dataframe\n",
    "        Output -> df1 Dataframe with the newly created column\n",
    "    \"\"\"\n",
    "    \n",
    "    df1 = df.copy()\n",
    "    df1['score_diff'] = df['user_score']-df['critic_score']\n",
    "    return df1"
   ]
  },
  {
   "cell_type": "markdown",
   "id": "5ba77448",
   "metadata": {},
   "source": [
    "The next step is to create a function that changes the \"release_date\" column into datetime type and extracts the month and year as integers into new columns aptly named \"release_month\" and \"release_year\" respectively.  \n",
    "These new columns could potentially hold interesting information regarding when most games get released."
   ]
  },
  {
   "cell_type": "code",
   "execution_count": 9,
   "id": "9e825b15",
   "metadata": {},
   "outputs": [],
   "source": [
    "def date_fix(df):\n",
    "    \"\"\"\n",
    "        Takes our dataframe, changes the date column to the correct type and adds 2 new columns\n",
    "        Input -> df Dataframe\n",
    "        Output -> df1 Dataframe with the 2 new columns\n",
    "    \"\"\"\n",
    "    \n",
    "    df1 = df.copy()\n",
    "    df1['release_date'] = pd.to_datetime(df['release_date'])\n",
    "    df1['release_year'] = pd.DatetimeIndex(df1['release_date']).year\n",
    "    df1['release_month'] = pd.DatetimeIndex(df1['release_date']).month\n",
    "    return df1"
   ]
  },
  {
   "cell_type": "markdown",
   "id": "10b552d1",
   "metadata": {},
   "source": [
    "It is now time to strat grouping the some of the values from our categorical columns, so the next few functions will be for that."
   ]
  },
  {
   "cell_type": "code",
   "execution_count": 10,
   "id": "918bb936",
   "metadata": {},
   "outputs": [],
   "source": [
    "def console_groupping(row):\n",
    "    \"\"\"\n",
    "        Takes a string an aggregates it into a group based on it's value\n",
    "        Input -> any possible string\n",
    "        Output -> string whose value depends on the input\n",
    "    \"\"\"\n",
    "    \n",
    "    if \"PlayStation\" in row or row == \"PSP\":\n",
    "        return \"PS\"\n",
    "    elif \"Xbox\" in row:\n",
    "        return \"Xbox\"\n",
    "    elif row == \"Dreamcast\":\n",
    "        return \"Sega\"\n",
    "    elif row == \"Stadia\":\n",
    "        return \"Google\"\n",
    "    elif row == \"PC\":\n",
    "        return \"PC\"\n",
    "    else:\n",
    "        return \"Nintendo\""
   ]
  },
  {
   "cell_type": "code",
   "execution_count": 11,
   "id": "84f66701",
   "metadata": {},
   "outputs": [],
   "source": [
    "def fix_player_count(row):\n",
    "    \"\"\"\n",
    "        Takes a string an aggregates it into a group based on it's value\n",
    "        Input -> any possible string\n",
    "        Output -> string whose value depends on the input\n",
    "    \"\"\"\n",
    "    \n",
    "    if row == \"No info\":\n",
    "        return \"No info\"\n",
    "    elif row == \"1 Player\" or row == \"No Online Multiplayer\":\n",
    "        return \"Singleplayer\"\n",
    "    elif row==\"1-2 \" or row==\"1-3 \" or row==\"1-4 \" or row==\"2 \" or row==\"Up to 3 \" or row==\"Up to 4 \" or row==\"2  Online\"  or row==\"3  Online\"  or row==\"4  Online\" :\n",
    "        return \"Co-op\"\n",
    "    else:\n",
    "        return \"Multiplayer\""
   ]
  },
  {
   "cell_type": "code",
   "execution_count": 12,
   "id": "e67971ba",
   "metadata": {},
   "outputs": [],
   "source": [
    "def genre_cleaning(row):\n",
    "    \"\"\"\n",
    "        Takes a string with a comma, and returns the substring prior the first comma\n",
    "        Input -> any possible string as long as it has a comma\n",
    "        Output -> everything before the first comma\n",
    "    \"\"\"\n",
    "    \n",
    "    g=row.split(\",\")\n",
    "    return g[0]"
   ]
  },
  {
   "cell_type": "code",
   "execution_count": 17,
   "id": "20c3f578",
   "metadata": {},
   "outputs": [],
   "source": [
    "def genre_cleaning_sec(row):\n",
    "    \"\"\"\n",
    "        Takes a string with a comma, and returns the substring between the first and second commas, if there is a second comma\n",
    "        Input -> any possible string as long as it has a comma\n",
    "        Output -> everything between the first and second commas, if there is no second comma, returns \"No secondary genre\"\n",
    "    \"\"\"\n",
    "    \n",
    "    g=row.split(\",\")\n",
    "    if len(g)>1:\n",
    "        return g[1]\n",
    "    else:\n",
    "        return 'No secondary genre'"
   ]
  },
  {
   "cell_type": "code",
   "execution_count": 18,
   "id": "1577554d",
   "metadata": {},
   "outputs": [],
   "source": [
    "def narrow_genres(df):\n",
    "    \"\"\"\n",
    "        Takes our dataframe and agregates most of the main and secondary genres while retaining the 10 or so with highest count\n",
    "        Input -> df Dataframe\n",
    "        Output -> df1 Dataframe with aggregated main and secondary genres\n",
    "    \"\"\"\n",
    "    \n",
    "    df1 = df.copy()\n",
    "    df1['main_genre'] = np.where( df['main_genre'].isin( ['Action', 'Action Adventure', 'Role-Playing', 'Sports', 'Strategy', 'Miscellaneous', 'Adventure', 'Driving', 'Simulation'] ) , df['main_genre'], 'Other')\n",
    "    df1['sec_genre'] = np.where( df['sec_genre'].isin( ['General', 'Shooter', 'Platformer', 'Traditional', 'Racing', 'Action RPG', 'Real-Time', 'Miscellaneous', 'Fighting', 'Turn-Based', 'Beat-\\'Em-Up'] ) , df['sec_genre'], 'Other')\n",
    "    return df1"
   ]
  },
  {
   "cell_type": "code",
   "execution_count": 19,
   "id": "0176709a",
   "metadata": {},
   "outputs": [],
   "source": [
    "def dev_mess(row):\n",
    "    \"\"\"\n",
    "        Takes a string and aggregates it into a specific group\n",
    "        Input -> any possible string\n",
    "        Output -> string whose value depends on the input\n",
    "    \"\"\"\n",
    "    \n",
    "    if \"Capcom\" in row:\n",
    "        return \"Capcom\"\n",
    "    elif \"TelltaleGames\" in row:\n",
    "        return \"Telltale\"\n",
    "    elif row.startswith(\"EA\") or \"ElectronicArts\" in row:\n",
    "        return \"EA\"\n",
    "    elif \"Konami\" in row:\n",
    "        return \"Konami\"\n",
    "    elif \"Nintendo\" in row:\n",
    "        return \"Nintendo\"\n",
    "    elif \"Ubisoft\" in row:\n",
    "        return \"Ubisoft\"\n",
    "    elif \"Bandai\" in row or \"Namco\" in row:\n",
    "        return \"BandaiNamco\"\n",
    "    elif \"SquareEnix\" in row or \"SquareSoft\" in row:\n",
    "        return \"SquareEnix\"\n",
    "    else:\n",
    "        return \"Other\""
   ]
  },
  {
   "cell_type": "markdown",
   "id": "3e417e8a",
   "metadata": {},
   "source": [
    "Since we have games released over a vast amount of years, it would be fairly interesting to compute the yearly amount of user reviews a game gets. We could take this new column as theclosest thing to how popular a game really is."
   ]
  },
  {
   "cell_type": "code",
   "execution_count": null,
   "id": "f6288668",
   "metadata": {},
   "outputs": [],
   "source": [
    "def yearly_reviews(df):\n",
    "    \"\"\"\n",
    "        Takes our dataframe and adds a new column containing the amount of user reviews that game gets per year\n",
    "        Input -> df Dataframe\n",
    "        Output -> df1 Dataframe with the new column\n",
    "    \"\"\"\n",
    "    \n",
    "    df1=df.copy()\n",
    "    max_year = df1['release_year'].sort_values(ascending=False).iloc[0]\n",
    "    df1['yearly_num_reviews'] = ( ( df1['num_users']) / ( (max_year + 1) - data['release_year'] ) )\n",
    "    return df1"
   ]
  },
  {
   "cell_type": "markdown",
   "id": "a2542721",
   "metadata": {},
   "source": [
    "And the final individual function will simply rearrange the column order into one that makes sense personally"
   ]
  },
  {
   "cell_type": "code",
   "execution_count": null,
   "id": "aa05f6ea",
   "metadata": {},
   "outputs": [],
   "source": [
    "def arrange_col(df):\n",
    "    \"\"\"\n",
    "        Takes our dataframe and simply changes the order in which the columns appear\n",
    "        Input -> df Dataframe\n",
    "        Output -> df1 Dataframe with the column order changed\n",
    "    \"\"\"\n",
    "    \n",
    "    df1 = df.copy()\n",
    "    df1 = df1[['game', 'console', 'console_brand', 'dev', 'main_genre', 'sec_genre', 'player_support',\n",
    "               'critic_score', 'user_score', 'score_diff','num_critics', 'num_users' , \n",
    "               'yearly_num_reviews', 'release_date', 'release_month', 'release_year']]"
   ]
  },
  {
   "cell_type": "markdown",
   "id": "d0875b85",
   "metadata": {},
   "source": [
    "Now that we have all the necessary functions it's to make our mega function which executes all other functions and returns our fully cleaned data."
   ]
  },
  {
   "cell_type": "code",
   "execution_count": null,
   "id": "97f3db91",
   "metadata": {},
   "outputs": [],
   "source": [
    "def clean_full_data(df):\n",
    "    \"\"\"\n",
    "        Takes our dataframe and inputs all the necessary functions to fully clean it\n",
    "        Input -> df Dataframe raw and yet untreated\n",
    "        Output -> df1 Dataframe fully cleaned\n",
    "    \"\"\"\n",
    "    \n",
    "    "
   ]
  }
 ],
 "metadata": {
  "kernelspec": {
   "display_name": "project",
   "language": "python",
   "name": "project"
  },
  "language_info": {
   "codemirror_mode": {
    "name": "ipython",
    "version": 3
   },
   "file_extension": ".py",
   "mimetype": "text/x-python",
   "name": "python",
   "nbconvert_exporter": "python",
   "pygments_lexer": "ipython3",
   "version": "3.9.12"
  }
 },
 "nbformat": 4,
 "nbformat_minor": 5
}
