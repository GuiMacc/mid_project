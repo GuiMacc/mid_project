{
 "cells": [
  {
   "cell_type": "markdown",
   "id": "2bd8d707",
   "metadata": {},
   "source": [
    "Let's start by loading the necessary libraries and our data."
   ]
  },
  {
   "cell_type": "code",
   "execution_count": 1,
   "id": "69ed3879",
   "metadata": {},
   "outputs": [],
   "source": [
    "import numpy as np\n",
    "import pandas as pd"
   ]
  },
  {
   "cell_type": "code",
   "execution_count": 2,
   "id": "f947df7d",
   "metadata": {},
   "outputs": [],
   "source": [
    "game_data = pd.read_csv('../Data/games-data.csv')"
   ]
  },
  {
   "cell_type": "markdown",
   "id": "08a8d453",
   "metadata": {},
   "source": [
    "Up next is a function that changes the column names:\n",
    ">game -> name of the game  \n",
    ">console -> name of the console in which the game was released  \n",
    ">release_date -> date in which the game got released to the public  \n",
    ">critic_score -> average score given by professional critics  \n",
    ">user_score -> average score given by the users of the metacritic website  \n",
    ">dev -> name of the developer studio that worked on the game  \n",
    ">player_support -> amount of players that the game supports in a single session  \n",
    ">num_critics -> number of critics that left a review on the game  \n",
    ">num_users -> number of users that left a review on the game  \n",
    ">genre -> list of genres that best represent the game (unchanged with the function)"
   ]
  },
  {
   "cell_type": "code",
   "execution_count": 3,
   "id": "eabbadad",
   "metadata": {},
   "outputs": [
    {
     "name": "stdout",
     "output_type": "stream",
     "text": [
      "Overwriting functions.py\n"
     ]
    }
   ],
   "source": [
    "%%writefile functions.py\n",
    "\n",
    "import numpy as np\n",
    "import pandas as pd \n",
    "\n",
    "def clean_col_names(df):\n",
    "    \"\"\"\n",
    "        Takes our dataframe and changes the column names into ones that better represent the contents of that column\n",
    "        Input -> df Dataframe needing column name cleaning\n",
    "        Output -> df1 Dataframe with columns renamed\n",
    "    \"\"\"\n",
    "    \n",
    "    df1 = df.copy()\n",
    "    df1.rename(columns = {'name' : 'game', 'platform' : 'console', 'r-date' : 'release_date',\n",
    "                         'score' : 'critic_score', 'user score' : 'user_score',\n",
    "                         'developer' : 'dev', 'players' : 'player_support',\n",
    "                         'critics' : 'num_critics', 'users' : 'num_users'}, inplace = True )\n",
    "    return df1"
   ]
  },
  {
   "cell_type": "markdown",
   "id": "1f02af84",
   "metadata": {},
   "source": [
    "Next is a function to get rid of rows where the values of the numeric columns doesn't make too much sense."
   ]
  },
  {
   "cell_type": "code",
   "execution_count": 4,
   "id": "c1462bf5",
   "metadata": {},
   "outputs": [
    {
     "name": "stdout",
     "output_type": "stream",
     "text": [
      "Appending to functions.py\n"
     ]
    }
   ],
   "source": [
    "%%writefile -a functions.py\n",
    "def weird_rows(df):\n",
    "    \"\"\"\n",
    "        Takes our dataframe and eliminates rows with values in the numerical columns that are simply no good\n",
    "        Input -> df Dataframe needing row cleaning\n",
    "        Output -> df1 Dataframe with no strange rows\n",
    "    \"\"\"\n",
    "    \n",
    "    df1 = df.copy()\n",
    "    df1 = df1[ (df['user_score'] != 'tbd') & (df['num_users'] != 0) & (df['num_critics'] != 0) ]\n",
    "    return df1"
   ]
  },
  {
   "cell_type": "markdown",
   "id": "6b2cfb34",
   "metadata": {},
   "source": [
    "Afterwards there is the need to fill some null values present in the \"player_support\" column, so here is funcion that does that."
   ]
  },
  {
   "cell_type": "code",
   "execution_count": 5,
   "id": "ba088d17",
   "metadata": {},
   "outputs": [
    {
     "name": "stdout",
     "output_type": "stream",
     "text": [
      "Appending to functions.py\n"
     ]
    }
   ],
   "source": [
    "%%writefile -a functions.py\n",
    "def support_fill(df):\n",
    "    \"\"\"\n",
    "        Takes our dataframe and fills the values in the \"player_support\" column with reasonable ones\n",
    "        Input -> df Dataframe with a few null values in the \"player_support\" column\n",
    "        Output -> df1 Dataframe cleaned of null values\n",
    "    \"\"\"\n",
    "    \n",
    "    df1 = df.copy()\n",
    "    df1['player_support'].fillna('No info', inplace=True)\n",
    "    return df1"
   ]
  },
  {
   "cell_type": "markdown",
   "id": "79bf78f9",
   "metadata": {},
   "source": [
    "The values on columns \"critic_score\" and \"user_score\" are on a different scale (0-100 and 0-10 respectively), so there's the need to tranform one so it's on the same scale as the other. Since \"user_score\" also happens to be as object type will be simultaniously changing that to integer."
   ]
  },
  {
   "cell_type": "code",
   "execution_count": 6,
   "id": "4234c429",
   "metadata": {},
   "outputs": [
    {
     "name": "stdout",
     "output_type": "stream",
     "text": [
      "Appending to functions.py\n"
     ]
    }
   ],
   "source": [
    "%%writefile -a functions.py\n",
    "def fix_user_score(x):\n",
    "    \"\"\"\n",
    "        Simply multiplies a number by 10 an returns the result as an integer\n",
    "        Input -> any numeric value x, even if it's not cast as a numerical type\n",
    "        Output -> produc y cast as an integer\n",
    "    \"\"\"\n",
    "    \n",
    "    y = float(x) * 10\n",
    "    return int(y)"
   ]
  },
  {
   "cell_type": "markdown",
   "id": "7f836847",
   "metadata": {},
   "source": [
    "To get some extra details out of the data, there is going to be a function which creates a new column named \"score_diff\".  \n",
    "This new column is the result of the difference between user_score and critic_score, which due to input means that:\n",
    ">a positive value means the user score is bigger than the critic score  \n",
    ">a negative value means the critic score is bigger than the user score"
   ]
  },
  {
   "cell_type": "code",
   "execution_count": 7,
   "id": "d5774f13",
   "metadata": {},
   "outputs": [
    {
     "name": "stdout",
     "output_type": "stream",
     "text": [
      "Appending to functions.py\n"
     ]
    }
   ],
   "source": [
    "%%writefile -a functions.py\n",
    "def score_diff_col(df):\n",
    "    \"\"\"\n",
    "        Takes our dataframe and adds a new column with the difference between the two score columns\n",
    "        Input -> df Dataframe\n",
    "        Output -> df1 Dataframe with the newly created column\n",
    "    \"\"\"\n",
    "    \n",
    "    df1 = df.copy()\n",
    "    df1['score_diff'] = df['user_score']-df['critic_score']\n",
    "    return df1"
   ]
  },
  {
   "cell_type": "markdown",
   "id": "5ba77448",
   "metadata": {},
   "source": [
    "The next step is to create a function that changes the \"release_date\" column into datetime type and extracts the month and year as integers into new columns aptly named \"release_month\" and \"release_year\" respectively.  \n",
    "These new columns could potentially hold interesting information regarding when most games get released."
   ]
  },
  {
   "cell_type": "code",
   "execution_count": 8,
   "id": "9e825b15",
   "metadata": {},
   "outputs": [
    {
     "name": "stdout",
     "output_type": "stream",
     "text": [
      "Appending to functions.py\n"
     ]
    }
   ],
   "source": [
    "%%writefile -a functions.py\n",
    "def date_fix(df):\n",
    "    \"\"\"\n",
    "        Takes our dataframe, changes the date column to the correct type and adds 2 new columns\n",
    "        Input -> df Dataframe\n",
    "        Output -> df1 Dataframe with the 2 new columns\n",
    "    \"\"\"\n",
    "    \n",
    "    df1 = df.copy()\n",
    "    df1['release_date'] = pd.to_datetime(df['release_date'])\n",
    "    df1['release_year'] = pd.DatetimeIndex(df1['release_date']).year\n",
    "    df1['release_month'] = pd.DatetimeIndex(df1['release_date']).month\n",
    "    return df1"
   ]
  },
  {
   "cell_type": "markdown",
   "id": "10b552d1",
   "metadata": {},
   "source": [
    "It is now time to strat grouping the some of the values from our categorical columns, so the next few functions will be for that."
   ]
  },
  {
   "cell_type": "code",
   "execution_count": 9,
   "id": "918bb936",
   "metadata": {},
   "outputs": [
    {
     "name": "stdout",
     "output_type": "stream",
     "text": [
      "Appending to functions.py\n"
     ]
    }
   ],
   "source": [
    "%%writefile -a functions.py\n",
    "def console_groupping(row):\n",
    "    \"\"\"\n",
    "        Takes a string an aggregates it into a group based on it's value\n",
    "        Input -> any possible string\n",
    "        Output -> string whose value depends on the input\n",
    "    \"\"\"\n",
    "    \n",
    "    if \"PlayStation\" in row or row == \"PSP\":\n",
    "        return \"PS\"\n",
    "    elif \"Xbox\" in row:\n",
    "        return \"Xbox\"\n",
    "    elif row == \"Dreamcast\":\n",
    "        return \"Sega\"\n",
    "    elif row == \"Stadia\":\n",
    "        return \"Google\"\n",
    "    elif row == \"PC\":\n",
    "        return \"PC\"\n",
    "    else:\n",
    "        return \"Nintendo\""
   ]
  },
  {
   "cell_type": "code",
   "execution_count": 10,
   "id": "84f66701",
   "metadata": {},
   "outputs": [
    {
     "name": "stdout",
     "output_type": "stream",
     "text": [
      "Appending to functions.py\n"
     ]
    }
   ],
   "source": [
    "%%writefile -a functions.py\n",
    "def fix_player_count(row):\n",
    "    \"\"\"\n",
    "        Takes a string and aggregates it into a group based on it's value\n",
    "        Input -> any possible string\n",
    "        Output -> string whose value depends on the input\n",
    "    \"\"\"\n",
    "    \n",
    "    if row == \"No info\":\n",
    "        return \"No info\"\n",
    "    elif row == \"1 Player\" or row == \"No Online Multiplayer\":\n",
    "        return \"Singleplayer\"\n",
    "    elif row==\"1-2 \" or row==\"1-3 \" or row==\"1-4 \" or row==\"2 \" or row==\"Up to 3 \" or row==\"Up to 4 \" or row==\"2  Online\"  or row==\"3  Online\"  or row==\"4  Online\" :\n",
    "        return \"Co-op\"\n",
    "    else:\n",
    "        return \"Multiplayer\""
   ]
  },
  {
   "cell_type": "code",
   "execution_count": 11,
   "id": "e67971ba",
   "metadata": {},
   "outputs": [
    {
     "name": "stdout",
     "output_type": "stream",
     "text": [
      "Appending to functions.py\n"
     ]
    }
   ],
   "source": [
    "%%writefile -a functions.py\n",
    "def genre_cleaning(row):\n",
    "    \"\"\"\n",
    "        Takes a string with a comma, and returns the substring prior the first comma\n",
    "        Input -> any possible string as long as it has a comma\n",
    "        Output -> everything before the first comma\n",
    "    \"\"\"\n",
    "    \n",
    "    g=row.split(\",\")\n",
    "    return g[0]"
   ]
  },
  {
   "cell_type": "code",
   "execution_count": 12,
   "id": "20c3f578",
   "metadata": {},
   "outputs": [
    {
     "name": "stdout",
     "output_type": "stream",
     "text": [
      "Appending to functions.py\n"
     ]
    }
   ],
   "source": [
    "%%writefile -a functions.py\n",
    "def genre_cleaning_sec(row):\n",
    "    \"\"\"\n",
    "        Takes a string with a comma, and returns the substring between the first and second commas\n",
    "        Input -> any possible string as long as it has a comma\n",
    "        Output -> everything between the first and second commas; if there is no second comma, returns \"No secondary genre\"\n",
    "    \"\"\"\n",
    "    \n",
    "    g=row.split(\",\")\n",
    "    if len(g)>1:\n",
    "        return g[1]\n",
    "    else:\n",
    "        return 'No secondary genre'"
   ]
  },
  {
   "cell_type": "code",
   "execution_count": 13,
   "id": "1577554d",
   "metadata": {},
   "outputs": [
    {
     "name": "stdout",
     "output_type": "stream",
     "text": [
      "Appending to functions.py\n"
     ]
    }
   ],
   "source": [
    "%%writefile -a functions.py\n",
    "def narrow_genres(df):\n",
    "    \"\"\"\n",
    "        Takes our dataframe and agregates most of the main and secondary genres while retaining the 10 or so with highest count\n",
    "        Input -> df Dataframe\n",
    "        Output -> df1 Dataframe with aggregated main and secondary genres\n",
    "    \"\"\"\n",
    "    \n",
    "    df1 = df.copy()\n",
    "    df1['main_genre'] = np.where( df['main_genre'].isin( ['Action', 'Action Adventure', 'Role-Playing', 'Sports', 'Strategy', 'Miscellaneous', 'Adventure', 'Driving', 'Simulation'] ) , df['main_genre'], 'Other')\n",
    "    df1['sec_genre'] = np.where( df['sec_genre'].isin( ['General', 'Shooter', 'Platformer', 'Traditional', 'Racing', 'Action RPG', 'Real-Time', 'Miscellaneous', 'Fighting', 'Turn-Based', 'Beat-\\'Em-Up'] ) , df['sec_genre'], 'Other')\n",
    "    return df1"
   ]
  },
  {
   "cell_type": "code",
   "execution_count": 14,
   "id": "0176709a",
   "metadata": {},
   "outputs": [
    {
     "name": "stdout",
     "output_type": "stream",
     "text": [
      "Appending to functions.py\n"
     ]
    }
   ],
   "source": [
    "%%writefile -a functions.py\n",
    "def dev_mess(row):\n",
    "    \"\"\"\n",
    "        Takes a string and aggregates it into a specific group\n",
    "        Input -> any possible string\n",
    "        Output -> string whose value depends on the input\n",
    "    \"\"\"\n",
    "    \n",
    "    if \"Capcom\" in row:\n",
    "        return \"Capcom\"\n",
    "    elif \"TelltaleGames\" in row:\n",
    "        return \"Telltale\"\n",
    "    elif row.startswith(\"EA\") or \"ElectronicArts\" in row:\n",
    "        return \"EA\"\n",
    "    elif \"Konami\" in row:\n",
    "        return \"Konami\"\n",
    "    elif \"Nintendo\" in row:\n",
    "        return \"Nintendo\"\n",
    "    elif \"Ubisoft\" in row:\n",
    "        return \"Ubisoft\"\n",
    "    elif \"Bandai\" in row or \"Namco\" in row:\n",
    "        return \"BandaiNamco\"\n",
    "    elif \"SquareEnix\" in row or \"SquareSoft\" in row:\n",
    "        return \"SquareEnix\"\n",
    "    else:\n",
    "        return \"Other\""
   ]
  },
  {
   "cell_type": "markdown",
   "id": "3e417e8a",
   "metadata": {},
   "source": [
    "Since we have games released over a vast amount of years, it would be fairly interesting to compute the yearly amount of user reviews a game gets. We could take this new column as theclosest thing to how popular a game really is."
   ]
  },
  {
   "cell_type": "code",
   "execution_count": 15,
   "id": "f6288668",
   "metadata": {},
   "outputs": [
    {
     "name": "stdout",
     "output_type": "stream",
     "text": [
      "Appending to functions.py\n"
     ]
    }
   ],
   "source": [
    "%%writefile -a functions.py\n",
    "def yearly_reviews(df):\n",
    "    \"\"\"\n",
    "        Takes our dataframe and adds a new column containing the amount of user reviews that game gets per year\n",
    "        Input -> df Dataframe\n",
    "        Output -> df1 Dataframe with the new column\n",
    "    \"\"\"\n",
    "    \n",
    "    df1=df.copy()\n",
    "    max_year = df1['release_year'].max()\n",
    "    df1['yearly_num_reviews'] = ( ( df1['num_users']) / ( (max_year + 1) - df1['release_year'] ) )\n",
    "    return df1"
   ]
  },
  {
   "cell_type": "markdown",
   "id": "a2542721",
   "metadata": {},
   "source": [
    "And the final individual function will simply rearrange the column order into one that makes sense personally"
   ]
  },
  {
   "cell_type": "code",
   "execution_count": 16,
   "id": "aa05f6ea",
   "metadata": {},
   "outputs": [
    {
     "name": "stdout",
     "output_type": "stream",
     "text": [
      "Appending to functions.py\n"
     ]
    }
   ],
   "source": [
    "%%writefile -a functions.py\n",
    "def arrange_col(df):\n",
    "    \"\"\"\n",
    "        Takes our dataframe and changes the order in which the columns appear, as well as sorting rows by year and montgh\n",
    "        Input -> df Dataframe\n",
    "        Output -> df1 Dataframe with the column order changed\n",
    "    \"\"\"\n",
    "    \n",
    "    df1 = df.copy()\n",
    "    df1 = df1[['game', 'console', 'console_brand', 'dev', 'main_genre', 'sec_genre', 'player_support',\n",
    "               'critic_score', 'user_score', 'score_diff','num_critics', 'num_users' , \n",
    "               'yearly_num_reviews', 'release_date', 'release_month', 'release_year']]\n",
    "    df1.sort_values(by=[\"release_year\",'release_month'],ascending=True, inplace=True)\n",
    "    df1.reset_index(drop=True, inplace=True)\n",
    "    return df1"
   ]
  },
  {
   "cell_type": "markdown",
   "id": "d0875b85",
   "metadata": {},
   "source": [
    "Now that we have all the necessary functions it's to make our mega function which executes all other functions and returns our fully cleaned data."
   ]
  },
  {
   "cell_type": "code",
   "execution_count": 17,
   "id": "97f3db91",
   "metadata": {},
   "outputs": [
    {
     "name": "stdout",
     "output_type": "stream",
     "text": [
      "Appending to functions.py\n"
     ]
    }
   ],
   "source": [
    "%%writefile -a functions.py\n",
    "def clean_full_data(df):\n",
    "    \"\"\"\n",
    "        Takes our dataframe and inputs all the necessary functions to fully clean it\n",
    "        Input -> df Dataframe raw and yet untreated\n",
    "        Output -> f_data Dataframe fully cleaned\n",
    "    \"\"\"\n",
    "    \n",
    "    df1 = df.copy()\n",
    "    \n",
    "    # start by changing column names\n",
    "    col_change = clean_col_names(df1)\n",
    "    \n",
    "    # need to get rid of rows with nonsensical values\n",
    "    fixed_rows = weird_rows(col_change)\n",
    "    \n",
    "    # time to fill the null values in the player_support column\n",
    "    no_nulls = support_fill(fixed_rows)\n",
    "    \n",
    "    # apply the correct function that scales the values in user_score\n",
    "    no_nulls['user_score'] = no_nulls['user_score'].apply(fix_user_score)\n",
    "    \n",
    "    # adding the new column\n",
    "    score_diff_df = score_diff_col(no_nulls)\n",
    "    \n",
    "    # changing date column type and adding month and year columns\n",
    "    data = date_fix(score_diff_df)\n",
    "    \n",
    "    # begin applying the functions that clean categorical data\n",
    "    # first, is adding the console_brand column\n",
    "    data['console_brand'] = data['console'].apply(console_groupping)\n",
    "    \n",
    "    # second is grouping the values from player_support so we don't have 50 unique values\n",
    "    data['player_support'] = data['player_support'].apply(fix_player_count)\n",
    "    \n",
    "    # third is collecting the main and secondary genres\n",
    "    data['main_genre']=data['genre'].apply(genre_cleaning)\n",
    "    data['sec_genre']=data['genre'].apply(genre_cleaning_sec)\n",
    "    \n",
    "    # fourth is reducing the amount of each genre type by grouping most of the unique values\n",
    "    data_narrow = narrow_genres(data)\n",
    "\n",
    "    # fifth is cleaning up the dev column by group the vast majority of them while keeping the most common values\n",
    "    data_narrow['dev'] = data_narrow['dev'].apply(dev_mess)\n",
    "    \n",
    "    # sixth is adding a new column which computes the amount of reviews per year a game gets\n",
    "    data_yearly = yearly_reviews(data_narrow)\n",
    "    \n",
    "    # finally we change the order of columns and sort by release year and month\n",
    "    f_data = arrange_col(data_yearly)\n",
    "    \n",
    "    return f_data"
   ]
  },
  {
   "cell_type": "code",
   "execution_count": 18,
   "id": "e47dc737",
   "metadata": {},
   "outputs": [],
   "source": [
    "import functions\n",
    "# time to aplly the mega function (and pray)\n",
    "\n",
    "final_data = functions.clean_full_data(game_data)"
   ]
  },
  {
   "cell_type": "code",
   "execution_count": 19,
   "id": "a0cb5f3a",
   "metadata": {},
   "outputs": [
    {
     "data": {
      "text/html": [
       "<div>\n",
       "<style scoped>\n",
       "    .dataframe tbody tr th:only-of-type {\n",
       "        vertical-align: middle;\n",
       "    }\n",
       "\n",
       "    .dataframe tbody tr th {\n",
       "        vertical-align: top;\n",
       "    }\n",
       "\n",
       "    .dataframe thead th {\n",
       "        text-align: right;\n",
       "    }\n",
       "</style>\n",
       "<table border=\"1\" class=\"dataframe\">\n",
       "  <thead>\n",
       "    <tr style=\"text-align: right;\">\n",
       "      <th></th>\n",
       "      <th>game</th>\n",
       "      <th>console</th>\n",
       "      <th>console_brand</th>\n",
       "      <th>dev</th>\n",
       "      <th>main_genre</th>\n",
       "      <th>sec_genre</th>\n",
       "      <th>player_support</th>\n",
       "      <th>critic_score</th>\n",
       "      <th>user_score</th>\n",
       "      <th>score_diff</th>\n",
       "      <th>num_critics</th>\n",
       "      <th>num_users</th>\n",
       "      <th>yearly_num_reviews</th>\n",
       "      <th>release_date</th>\n",
       "      <th>release_month</th>\n",
       "      <th>release_year</th>\n",
       "    </tr>\n",
       "  </thead>\n",
       "  <tbody>\n",
       "    <tr>\n",
       "      <th>0</th>\n",
       "      <td>Full Throttle</td>\n",
       "      <td>PC</td>\n",
       "      <td>PC</td>\n",
       "      <td>Other</td>\n",
       "      <td>Adventure</td>\n",
       "      <td>General</td>\n",
       "      <td>No info</td>\n",
       "      <td>86</td>\n",
       "      <td>86</td>\n",
       "      <td>0</td>\n",
       "      <td>8</td>\n",
       "      <td>181</td>\n",
       "      <td>6.961538</td>\n",
       "      <td>1995-04-30</td>\n",
       "      <td>4</td>\n",
       "      <td>1995</td>\n",
       "    </tr>\n",
       "    <tr>\n",
       "      <th>1</th>\n",
       "      <td>Duke Nukem 3D</td>\n",
       "      <td>PC</td>\n",
       "      <td>PC</td>\n",
       "      <td>Other</td>\n",
       "      <td>Action</td>\n",
       "      <td>Shooter</td>\n",
       "      <td>Co-op</td>\n",
       "      <td>89</td>\n",
       "      <td>87</td>\n",
       "      <td>-2</td>\n",
       "      <td>8</td>\n",
       "      <td>461</td>\n",
       "      <td>18.440000</td>\n",
       "      <td>1996-01-29</td>\n",
       "      <td>1</td>\n",
       "      <td>1996</td>\n",
       "    </tr>\n",
       "    <tr>\n",
       "      <th>2</th>\n",
       "      <td>Sid Meier's Civilization II</td>\n",
       "      <td>PC</td>\n",
       "      <td>PC</td>\n",
       "      <td>Other</td>\n",
       "      <td>Strategy</td>\n",
       "      <td>Turn-Based</td>\n",
       "      <td>Singleplayer</td>\n",
       "      <td>94</td>\n",
       "      <td>88</td>\n",
       "      <td>-6</td>\n",
       "      <td>7</td>\n",
       "      <td>450</td>\n",
       "      <td>18.000000</td>\n",
       "      <td>1996-02-29</td>\n",
       "      <td>2</td>\n",
       "      <td>1996</td>\n",
       "    </tr>\n",
       "    <tr>\n",
       "      <th>3</th>\n",
       "      <td>Bad Mojo</td>\n",
       "      <td>PC</td>\n",
       "      <td>PC</td>\n",
       "      <td>Other</td>\n",
       "      <td>Action Adventure</td>\n",
       "      <td>Other</td>\n",
       "      <td>Singleplayer</td>\n",
       "      <td>74</td>\n",
       "      <td>69</td>\n",
       "      <td>-5</td>\n",
       "      <td>10</td>\n",
       "      <td>13</td>\n",
       "      <td>0.520000</td>\n",
       "      <td>1996-02-29</td>\n",
       "      <td>2</td>\n",
       "      <td>1996</td>\n",
       "    </tr>\n",
       "    <tr>\n",
       "      <th>4</th>\n",
       "      <td>Resident Evil</td>\n",
       "      <td>PlayStation</td>\n",
       "      <td>PS</td>\n",
       "      <td>Capcom</td>\n",
       "      <td>Action Adventure</td>\n",
       "      <td>Other</td>\n",
       "      <td>Singleplayer</td>\n",
       "      <td>91</td>\n",
       "      <td>90</td>\n",
       "      <td>-1</td>\n",
       "      <td>8</td>\n",
       "      <td>526</td>\n",
       "      <td>21.040000</td>\n",
       "      <td>1996-03-30</td>\n",
       "      <td>3</td>\n",
       "      <td>1996</td>\n",
       "    </tr>\n",
       "  </tbody>\n",
       "</table>\n",
       "</div>"
      ],
      "text/plain": [
       "                          game      console console_brand     dev  \\\n",
       "0                Full Throttle           PC            PC   Other   \n",
       "1                Duke Nukem 3D           PC            PC   Other   \n",
       "2  Sid Meier's Civilization II           PC            PC   Other   \n",
       "3                     Bad Mojo           PC            PC   Other   \n",
       "4                Resident Evil  PlayStation            PS  Capcom   \n",
       "\n",
       "         main_genre   sec_genre player_support  critic_score  user_score  \\\n",
       "0         Adventure     General        No info            86          86   \n",
       "1            Action     Shooter          Co-op            89          87   \n",
       "2          Strategy  Turn-Based   Singleplayer            94          88   \n",
       "3  Action Adventure       Other   Singleplayer            74          69   \n",
       "4  Action Adventure       Other   Singleplayer            91          90   \n",
       "\n",
       "   score_diff  num_critics  num_users  yearly_num_reviews release_date  \\\n",
       "0           0            8        181            6.961538   1995-04-30   \n",
       "1          -2            8        461           18.440000   1996-01-29   \n",
       "2          -6            7        450           18.000000   1996-02-29   \n",
       "3          -5           10         13            0.520000   1996-02-29   \n",
       "4          -1            8        526           21.040000   1996-03-30   \n",
       "\n",
       "   release_month  release_year  \n",
       "0              4          1995  \n",
       "1              1          1996  \n",
       "2              2          1996  \n",
       "3              2          1996  \n",
       "4              3          1996  "
      ]
     },
     "metadata": {},
     "output_type": "display_data"
    },
    {
     "name": "stdout",
     "output_type": "stream",
     "text": [
      "(16641, 16)\n"
     ]
    }
   ],
   "source": [
    "# this is to manually compare with the end of the exploratory notebook\n",
    "\n",
    "display(final_data.head())\n",
    "print(final_data.shape)"
   ]
  },
  {
   "cell_type": "code",
   "execution_count": 20,
   "id": "de67c65f",
   "metadata": {},
   "outputs": [],
   "source": [
    "final_data.to_csv('../Data/cleaned_data.csv', index=False)"
   ]
  },
  {
   "cell_type": "code",
   "execution_count": null,
   "id": "b2a5062e",
   "metadata": {},
   "outputs": [],
   "source": []
  }
 ],
 "metadata": {
  "kernelspec": {
   "display_name": "project",
   "language": "python",
   "name": "project"
  },
  "language_info": {
   "codemirror_mode": {
    "name": "ipython",
    "version": 3
   },
   "file_extension": ".py",
   "mimetype": "text/x-python",
   "name": "python",
   "nbconvert_exporter": "python",
   "pygments_lexer": "ipython3",
   "version": "3.9.12"
  }
 },
 "nbformat": 4,
 "nbformat_minor": 5
}
